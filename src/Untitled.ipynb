{
 "cells": [
  {
   "cell_type": "code",
   "execution_count": 3,
   "id": "d7785117",
   "metadata": {},
   "outputs": [],
   "source": [
    "from dataset.multiclass_dataset import MultiClassDataset\n",
    "from arguments.train_arguments import TrainArguments\n",
    "import argparse"
   ]
  },
  {
   "cell_type": "code",
   "execution_count": 5,
   "id": "42b71dd6",
   "metadata": {},
   "outputs": [],
   "source": [
    "parser = argparse.ArgumentParser(formatter_class=argparse.ArgumentDefaultsHelpFormatter)\n",
    "parser = TrainArguments().initialize(parser)\n",
    "\n",
    "args = parser.parse_args(['--dataroot', r'C:\\Users\\Karthik\\Desktop\\Thesis\\DATA\\weather_images'])"
   ]
  },
  {
   "cell_type": "code",
   "execution_count": 8,
   "id": "4f760cad",
   "metadata": {},
   "outputs": [],
   "source": [
    "args.class_a = 'sun'\n",
    "args.class_b = 'snow'"
   ]
  },
  {
   "cell_type": "code",
   "execution_count": 12,
   "id": "1a5df512",
   "metadata": {},
   "outputs": [
    {
     "name": "stdout",
     "output_type": "stream",
     "text": [
      "1001\n"
     ]
    }
   ],
   "source": [
    "dataset = MultiClassDataset(args)\n",
    "print(len(dataset))"
   ]
  },
  {
   "cell_type": "code",
   "execution_count": 13,
   "id": "334f4759",
   "metadata": {},
   "outputs": [
    {
     "data": {
      "text/plain": [
       "{'A': tensor([[[ 0.7020,  0.6549,  0.6549,  ...,  0.4431,  0.4353,  0.4353],\n",
       "          [ 0.4902,  0.7020,  0.7020,  ...,  0.4431,  0.4353,  0.4353],\n",
       "          [-0.2471,  0.3569,  0.7647,  ...,  0.4275,  0.4275,  0.4275],\n",
       "          ...,\n",
       "          [-0.1529,  0.1373, -0.2157,  ..., -0.2078, -0.2157, -0.1765],\n",
       "          [ 0.0275,  0.2471, -0.1922,  ..., -0.1608, -0.1843, -0.1922],\n",
       "          [ 0.3098, -0.0039, -0.4196,  ..., -0.2157, -0.1765, -0.1843]],\n",
       " \n",
       "         [[ 0.7490,  0.7098,  0.7176,  ...,  0.5922,  0.5843,  0.5843],\n",
       "          [ 0.4980,  0.7255,  0.7333,  ...,  0.5922,  0.5843,  0.5843],\n",
       "          [-0.2549,  0.3490,  0.7647,  ...,  0.5922,  0.5922,  0.5922],\n",
       "          ...,\n",
       "          [-0.3098,  0.1059, -0.1451,  ..., -0.1373, -0.1294, -0.0980],\n",
       "          [-0.1529,  0.1686, -0.1765,  ..., -0.1373, -0.1451, -0.1294],\n",
       "          [ 0.2706, -0.0353, -0.4902,  ..., -0.2235, -0.1686, -0.1608]],\n",
       " \n",
       "         [[ 0.7098,  0.6157,  0.5686,  ...,  0.8431,  0.8353,  0.8353],\n",
       "          [ 0.5451,  0.7333,  0.6549,  ...,  0.8431,  0.8353,  0.8353],\n",
       "          [-0.1294,  0.4431,  0.7725,  ...,  0.8353,  0.8353,  0.8353],\n",
       "          ...,\n",
       "          [-0.3020, -0.0353, -0.3804,  ..., -0.1294, -0.2157, -0.2941],\n",
       "          [-0.0745,  0.1765, -0.2235,  ..., -0.1216, -0.1843, -0.2549],\n",
       "          [ 0.3647,  0.0824, -0.3412,  ..., -0.2314, -0.1686, -0.2078]]]),\n",
       " 'B': tensor([[[ 0.3961,  0.3961,  0.3961,  ...,  0.3333,  0.3333,  0.3412],\n",
       "          [ 0.4039,  0.4039,  0.4039,  ...,  0.3490,  0.3490,  0.3490],\n",
       "          [ 0.4039,  0.4039,  0.4039,  ...,  0.3490,  0.3490,  0.3490],\n",
       "          ...,\n",
       "          [-0.2941, -0.2863, -0.2941,  ..., -0.0824, -0.0902, -0.1294],\n",
       "          [-0.3098, -0.3255, -0.3255,  ..., -0.1373, -0.1216, -0.0902],\n",
       "          [-0.2941, -0.2863, -0.3020,  ..., -0.1137, -0.1137, -0.0588]],\n",
       " \n",
       "         [[ 0.7961,  0.7961,  0.7961,  ...,  0.7255,  0.7255,  0.7333],\n",
       "          [ 0.8039,  0.8039,  0.8039,  ...,  0.7412,  0.7412,  0.7412],\n",
       "          [ 0.8118,  0.8118,  0.8118,  ...,  0.7412,  0.7412,  0.7412],\n",
       "          ...,\n",
       "          [ 0.0275,  0.0431,  0.0353,  ...,  0.2471,  0.2392,  0.2000],\n",
       "          [ 0.0118,  0.0039,  0.0039,  ...,  0.2000,  0.2078,  0.2471],\n",
       "          [ 0.0118,  0.0196,  0.0039,  ...,  0.2000,  0.1922,  0.2549]],\n",
       " \n",
       "         [[ 1.0000,  1.0000,  1.0000,  ...,  0.9843,  0.9843,  0.9922],\n",
       "          [ 1.0000,  1.0000,  1.0000,  ...,  1.0000,  1.0000,  1.0000],\n",
       "          [ 1.0000,  1.0000,  1.0000,  ...,  1.0000,  1.0000,  1.0000],\n",
       "          ...,\n",
       "          [ 0.3412,  0.3569,  0.3490,  ...,  0.5765,  0.5686,  0.5294],\n",
       "          [ 0.3255,  0.3176,  0.3176,  ...,  0.5216,  0.5373,  0.5765],\n",
       "          [ 0.3333,  0.3412,  0.3255,  ...,  0.5373,  0.5373,  0.5922]]]),\n",
       " 'A_paths': 'C:\\\\Users\\\\Karthik\\\\Desktop\\\\Thesis\\\\DATA\\\\weather_images\\\\train\\\\sun\\\\10416400.jpg',\n",
       " 'B_paths': 'C:\\\\Users\\\\Karthik\\\\Desktop\\\\Thesis\\\\DATA\\\\weather_images\\\\train\\\\snow\\\\1020413783.jpg'}"
      ]
     },
     "execution_count": 13,
     "metadata": {},
     "output_type": "execute_result"
    }
   ],
   "source": [
    "dataset[1]"
   ]
  },
  {
   "cell_type": "code",
   "execution_count": 14,
   "id": "adae6d73",
   "metadata": {},
   "outputs": [
    {
     "name": "stdout",
     "output_type": "stream",
     "text": [
      "Populating the interactive namespace from numpy and matplotlib\n"
     ]
    },
    {
     "ename": "TypeError",
     "evalue": "Invalid shape (3, 256, 256) for image data",
     "output_type": "error",
     "traceback": [
      "\u001b[1;31m---------------------------------------------------------------------------\u001b[0m",
      "\u001b[1;31mTypeError\u001b[0m                                 Traceback (most recent call last)",
      "\u001b[1;32m<ipython-input-14-218c1c4cec70>\u001b[0m in \u001b[0;36m<module>\u001b[1;34m\u001b[0m\n\u001b[0;32m      3\u001b[0m \u001b[1;32mimport\u001b[0m \u001b[0mmatplotlib\u001b[0m\u001b[1;33m.\u001b[0m\u001b[0mimage\u001b[0m \u001b[1;32mas\u001b[0m \u001b[0mmpimg\u001b[0m\u001b[1;33m\u001b[0m\u001b[0m\n\u001b[0;32m      4\u001b[0m \u001b[0mimg\u001b[0m \u001b[1;33m=\u001b[0m \u001b[0mdataset\u001b[0m\u001b[1;33m[\u001b[0m\u001b[1;36m1\u001b[0m\u001b[1;33m]\u001b[0m\u001b[1;33m[\u001b[0m\u001b[1;34m'A'\u001b[0m\u001b[1;33m]\u001b[0m\u001b[1;33m\u001b[0m\u001b[0m\n\u001b[1;32m----> 5\u001b[1;33m \u001b[0mimgplot\u001b[0m \u001b[1;33m=\u001b[0m \u001b[0mplt\u001b[0m\u001b[1;33m.\u001b[0m\u001b[0mimshow\u001b[0m\u001b[1;33m(\u001b[0m\u001b[0mimg\u001b[0m\u001b[1;33m)\u001b[0m\u001b[1;33m\u001b[0m\u001b[0m\n\u001b[0m\u001b[0;32m      6\u001b[0m \u001b[0mplt\u001b[0m\u001b[1;33m.\u001b[0m\u001b[0mshow\u001b[0m\u001b[1;33m(\u001b[0m\u001b[1;33m)\u001b[0m\u001b[1;33m\u001b[0m\u001b[0m\n",
      "\u001b[1;32mc:\\users\\karthik\\anaconda3\\envs\\keen\\lib\\site-packages\\matplotlib\\pyplot.py\u001b[0m in \u001b[0;36mimshow\u001b[1;34m(X, cmap, norm, aspect, interpolation, alpha, vmin, vmax, origin, extent, filternorm, filterrad, resample, url, data, **kwargs)\u001b[0m\n\u001b[0;32m   2728\u001b[0m         \u001b[0mfilternorm\u001b[0m\u001b[1;33m=\u001b[0m\u001b[0mfilternorm\u001b[0m\u001b[1;33m,\u001b[0m \u001b[0mfilterrad\u001b[0m\u001b[1;33m=\u001b[0m\u001b[0mfilterrad\u001b[0m\u001b[1;33m,\u001b[0m \u001b[0mresample\u001b[0m\u001b[1;33m=\u001b[0m\u001b[0mresample\u001b[0m\u001b[1;33m,\u001b[0m\u001b[1;33m\u001b[0m\u001b[0m\n\u001b[0;32m   2729\u001b[0m         \u001b[0murl\u001b[0m\u001b[1;33m=\u001b[0m\u001b[0murl\u001b[0m\u001b[1;33m,\u001b[0m \u001b[1;33m**\u001b[0m\u001b[1;33m(\u001b[0m\u001b[1;33m{\u001b[0m\u001b[1;34m\"data\"\u001b[0m\u001b[1;33m:\u001b[0m \u001b[0mdata\u001b[0m\u001b[1;33m}\u001b[0m \u001b[1;32mif\u001b[0m \u001b[0mdata\u001b[0m \u001b[1;32mis\u001b[0m \u001b[1;32mnot\u001b[0m \u001b[1;32mNone\u001b[0m \u001b[1;32melse\u001b[0m \u001b[1;33m{\u001b[0m\u001b[1;33m}\u001b[0m\u001b[1;33m)\u001b[0m\u001b[1;33m,\u001b[0m\u001b[1;33m\u001b[0m\u001b[0m\n\u001b[1;32m-> 2730\u001b[1;33m         **kwargs)\n\u001b[0m\u001b[0;32m   2731\u001b[0m     \u001b[0msci\u001b[0m\u001b[1;33m(\u001b[0m\u001b[0m__ret\u001b[0m\u001b[1;33m)\u001b[0m\u001b[1;33m\u001b[0m\u001b[0m\n\u001b[0;32m   2732\u001b[0m     \u001b[1;32mreturn\u001b[0m \u001b[0m__ret\u001b[0m\u001b[1;33m\u001b[0m\u001b[0m\n",
      "\u001b[1;32mc:\\users\\karthik\\anaconda3\\envs\\keen\\lib\\site-packages\\matplotlib\\__init__.py\u001b[0m in \u001b[0;36minner\u001b[1;34m(ax, data, *args, **kwargs)\u001b[0m\n\u001b[0;32m   1445\u001b[0m     \u001b[1;32mdef\u001b[0m \u001b[0minner\u001b[0m\u001b[1;33m(\u001b[0m\u001b[0max\u001b[0m\u001b[1;33m,\u001b[0m \u001b[1;33m*\u001b[0m\u001b[0margs\u001b[0m\u001b[1;33m,\u001b[0m \u001b[0mdata\u001b[0m\u001b[1;33m=\u001b[0m\u001b[1;32mNone\u001b[0m\u001b[1;33m,\u001b[0m \u001b[1;33m**\u001b[0m\u001b[0mkwargs\u001b[0m\u001b[1;33m)\u001b[0m\u001b[1;33m:\u001b[0m\u001b[1;33m\u001b[0m\u001b[0m\n\u001b[0;32m   1446\u001b[0m         \u001b[1;32mif\u001b[0m \u001b[0mdata\u001b[0m \u001b[1;32mis\u001b[0m \u001b[1;32mNone\u001b[0m\u001b[1;33m:\u001b[0m\u001b[1;33m\u001b[0m\u001b[0m\n\u001b[1;32m-> 1447\u001b[1;33m             \u001b[1;32mreturn\u001b[0m \u001b[0mfunc\u001b[0m\u001b[1;33m(\u001b[0m\u001b[0max\u001b[0m\u001b[1;33m,\u001b[0m \u001b[1;33m*\u001b[0m\u001b[0mmap\u001b[0m\u001b[1;33m(\u001b[0m\u001b[0msanitize_sequence\u001b[0m\u001b[1;33m,\u001b[0m \u001b[0margs\u001b[0m\u001b[1;33m)\u001b[0m\u001b[1;33m,\u001b[0m \u001b[1;33m**\u001b[0m\u001b[0mkwargs\u001b[0m\u001b[1;33m)\u001b[0m\u001b[1;33m\u001b[0m\u001b[0m\n\u001b[0m\u001b[0;32m   1448\u001b[0m \u001b[1;33m\u001b[0m\u001b[0m\n\u001b[0;32m   1449\u001b[0m         \u001b[0mbound\u001b[0m \u001b[1;33m=\u001b[0m \u001b[0mnew_sig\u001b[0m\u001b[1;33m.\u001b[0m\u001b[0mbind\u001b[0m\u001b[1;33m(\u001b[0m\u001b[0max\u001b[0m\u001b[1;33m,\u001b[0m \u001b[1;33m*\u001b[0m\u001b[0margs\u001b[0m\u001b[1;33m,\u001b[0m \u001b[1;33m**\u001b[0m\u001b[0mkwargs\u001b[0m\u001b[1;33m)\u001b[0m\u001b[1;33m\u001b[0m\u001b[0m\n",
      "\u001b[1;32mc:\\users\\karthik\\anaconda3\\envs\\keen\\lib\\site-packages\\matplotlib\\axes\\_axes.py\u001b[0m in \u001b[0;36mimshow\u001b[1;34m(self, X, cmap, norm, aspect, interpolation, alpha, vmin, vmax, origin, extent, filternorm, filterrad, resample, url, **kwargs)\u001b[0m\n\u001b[0;32m   5521\u001b[0m                               resample=resample, **kwargs)\n\u001b[0;32m   5522\u001b[0m \u001b[1;33m\u001b[0m\u001b[0m\n\u001b[1;32m-> 5523\u001b[1;33m         \u001b[0mim\u001b[0m\u001b[1;33m.\u001b[0m\u001b[0mset_data\u001b[0m\u001b[1;33m(\u001b[0m\u001b[0mX\u001b[0m\u001b[1;33m)\u001b[0m\u001b[1;33m\u001b[0m\u001b[0m\n\u001b[0m\u001b[0;32m   5524\u001b[0m         \u001b[0mim\u001b[0m\u001b[1;33m.\u001b[0m\u001b[0mset_alpha\u001b[0m\u001b[1;33m(\u001b[0m\u001b[0malpha\u001b[0m\u001b[1;33m)\u001b[0m\u001b[1;33m\u001b[0m\u001b[0m\n\u001b[0;32m   5525\u001b[0m         \u001b[1;32mif\u001b[0m \u001b[0mim\u001b[0m\u001b[1;33m.\u001b[0m\u001b[0mget_clip_path\u001b[0m\u001b[1;33m(\u001b[0m\u001b[1;33m)\u001b[0m \u001b[1;32mis\u001b[0m \u001b[1;32mNone\u001b[0m\u001b[1;33m:\u001b[0m\u001b[1;33m\u001b[0m\u001b[0m\n",
      "\u001b[1;32mc:\\users\\karthik\\anaconda3\\envs\\keen\\lib\\site-packages\\matplotlib\\image.py\u001b[0m in \u001b[0;36mset_data\u001b[1;34m(self, A)\u001b[0m\n\u001b[0;32m    710\u001b[0m                 or self._A.ndim == 3 and self._A.shape[-1] in [3, 4]):\n\u001b[0;32m    711\u001b[0m             raise TypeError(\"Invalid shape {} for image data\"\n\u001b[1;32m--> 712\u001b[1;33m                             .format(self._A.shape))\n\u001b[0m\u001b[0;32m    713\u001b[0m \u001b[1;33m\u001b[0m\u001b[0m\n\u001b[0;32m    714\u001b[0m         \u001b[1;32mif\u001b[0m \u001b[0mself\u001b[0m\u001b[1;33m.\u001b[0m\u001b[0m_A\u001b[0m\u001b[1;33m.\u001b[0m\u001b[0mndim\u001b[0m \u001b[1;33m==\u001b[0m \u001b[1;36m3\u001b[0m\u001b[1;33m:\u001b[0m\u001b[1;33m\u001b[0m\u001b[0m\n",
      "\u001b[1;31mTypeError\u001b[0m: Invalid shape (3, 256, 256) for image data"
     ]
    },
    {
     "data": {
      "image/png": "[encoded data removed]",
      "text/plain": [
       "<Figure size 432x288 with 1 Axes>"
      ]
     },
     "metadata": {
      "needs_background": "light"
     },
     "output_type": "display_data"
    }
   ],
   "source": [
    "%pylab inline\n",
    "import matplotlib.pyplot as plt\n",
    "import matplotlib.image as mpimg\n",
    "img = dataset[1]['A'].permute\n",
    "imgplot = plt.imshow(img)\n",
    "plt.show()"
   ]
  },
  {
   "cell_type": "code",
   "execution_count": null,
   "id": "3dc271b8",
   "metadata": {},
   "outputs": [],
   "source": []
  }
 ],
 "metadata": {
  "kernelspec": {
   "display_name": "Python 3",
   "language": "python",
   "name": "python3"
  },
  "language_info": {
   "codemirror_mode": {
    "name": "ipython",
    "version": 3
   },
   "file_extension": ".py",
   "mimetype": "text/x-python",
   "name": "python",
   "nbconvert_exporter": "python",
   "pygments_lexer": "ipython3",
   "version": "3.7.0"
  }
 },
 "nbformat": 4,
 "nbformat_minor": 5
}
